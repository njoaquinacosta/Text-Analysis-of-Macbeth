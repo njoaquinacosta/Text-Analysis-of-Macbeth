{
 "cells": [
  {
   "cell_type": "code",
   "execution_count": 19,
   "metadata": {
    "collapsed": true
   },
   "outputs": [],
   "source": [
    "%matplotlib inline"
   ]
  },
  {
   "cell_type": "code",
   "execution_count": 20,
   "metadata": {
    "collapsed": true
   },
   "outputs": [],
   "source": [
    "\"\"\"\n",
    "Simple text analysis using the NLTK.\n",
    "\"\"\"\n",
    "\n",
    "import nltk\n",
    "import matplotlib\n",
    "import pandas as pd\n",
    "import matplotlib.pyplot as plt\n",
    "\n",
    "from nltk import word_tokenize\n",
    "from string import punctuation\n",
    "from nltk.corpus import stopwords\n",
    "from nltk.corpus import gutenberg\n",
    "from nltk.tokenize import PunktSentenceTokenizer\n",
    "\n",
    "\"\"\"\n",
    "Bigger plots; easier to see.\n",
    "\"\"\"\n",
    "plt.rcParams['figure.figsize'] = (12,4)"
   ]
  },
  {
   "cell_type": "code",
   "execution_count": 21,
   "metadata": {
    "collapsed": true
   },
   "outputs": [],
   "source": [
    "\"\"\"\n",
    "Tokenize and make an NLTK Text object of our text.\n",
    "\"\"\"\n",
    "\n",
    "sh_raw = open('../../../gutenberg/shakespeare-macbeth.txt').read()\n",
    "sh_vocab = nltk.word_tokenize(sh_raw)\n",
    "sh = nltk.Text(sh_vocab)"
   ]
  },
  {
   "cell_type": "code",
   "execution_count": 22,
   "metadata": {},
   "outputs": [
    {
     "data": {
      "text/plain": [
       "<Text: The Tragedie of Macbeth by William Shakespeare 1603>"
      ]
     },
     "execution_count": 22,
     "metadata": {},
     "output_type": "execute_result"
    }
   ],
   "source": [
    "sh"
   ]
  },
  {
   "cell_type": "code",
   "execution_count": 23,
   "metadata": {},
   "outputs": [
    {
     "name": "stdout",
     "output_type": "stream",
     "text": [
      "Enter Macbeth; Scena Secunda; three Witches; good Lord; thou art; Fire\n",
      "burne; Scena Prima; worthy Thane; ten thousand; weyward Sisters; mine\n",
      "owne; Cauldron bubble; haue done; Old man; thy face; Scena Quinta;\n",
      "Enter Malcolme; Scena Quarta; woman borne; Lord Macb\n"
     ]
    }
   ],
   "source": [
    "\"\"\"\n",
    "Explore Text Collocations\n",
    "\"\"\"\n",
    "\n",
    "sh.collocations()"
   ]
  },
  {
   "cell_type": "code",
   "execution_count": 24,
   "metadata": {},
   "outputs": [
    {
     "name": "stdout",
     "output_type": "stream",
     "text": [
      "Displaying 25 of 87 matches:\n",
      "g , the knowledge of the Broyle , As thou didst leaue it Cap . Doubtfull it st\n",
      "d saue the King King . Whence cam'st thou , worthy Thane ? Rosse . From Fiffe \n",
      "r the three Witches . 1 . Where hast thou beene , Sister ? 2 . Killing Swine 3\n",
      "2 . Killing Swine 3 . Sister , where thou ? 1 . A Saylors Wife had Chestnuts i\n",
      " Not so happy , yet much happyer 3 . Thou shalt get Kings , though thou be non\n",
      "er 3 . Thou shalt get Kings , though thou be none : So all haile Macbeth , and\n",
      "ratitude euen now Was heauie on me . Thou art so farre before , That swiftest \n",
      "e is slow , To ouertake thee . Would thou hadst lesse deseru 'd , That the pro\n",
      "dearest Partner of Greatnesse ) that thou might'st not loose the dues of reioy\n",
      "t to thy heart and farewell . Glamys thou art , and Cawdor , and shalt be What\n",
      "art , and Cawdor , and shalt be What thou art promis 'd : yet doe I feare thy \n",
      "ndnesse , To catch the neerest way . Thou would'st be great , Art not without \n",
      "The illnesse should attend it . What thou would'st highly , That would'st thou\n",
      "thou would'st highly , That would'st thou holily : would'st not play false , A\n",
      "eat Glamys , that which cryes , Thus thou must doe , if thou haue it ; And tha\n",
      "hich cryes , Thus thou must doe , if thou haue it ; And that which rather thou\n",
      "thou haue it ; And that which rather thou do'st feare to doe , Then wishest sh\n",
      "time , Such I account thy loue . Art thou affear'd To be the same in thine own\n",
      " in thine owne Act , and Valour , As thou art in desire ? Would'st thou haue t\n",
      "r , As thou art in desire ? Would'st thou haue that Which thou esteem'st the O\n",
      "sire ? Would'st thou haue that Which thou esteem'st the Ornament of Life , And\n",
      "not , and yet I see thee still . Art thou not fatall Vision , sensible To feel\n",
      "le To feeling , as to sight ? or art thou but A Dagger of the Minde , a false \n",
      "alpable , As this which now I draw . Thou marshall'st me the way that I was go\n",
      "rds his designe Moues like a Ghost . Thou sowre and firme-set Earth Heare not \n"
     ]
    }
   ],
   "source": [
    "\"\"\"\n",
    "Concordance: find a single word in the text and get context.\n",
    "\"\"\"\n",
    "\n",
    "sh.concordance('thou')"
   ]
  },
  {
   "cell_type": "code",
   "execution_count": 25,
   "metadata": {},
   "outputs": [
    {
     "data": {
      "image/png": "[encoded data removed]",
      "text/plain": [
       "<matplotlib.figure.Figure at 0x22d62a6aef0>"
      ]
     },
     "metadata": {},
     "output_type": "display_data"
    }
   ],
   "source": [
    "\"\"\"\n",
    "Lexical Dispersion Plot\n",
    "\n",
    "Use the dispersion_plot() function to check \n",
    "where the word visually appears throughout the text.\n",
    "\"\"\"\n",
    "\n",
    "sh.dispersion_plot(['Banquo', 'Lady', 'Macbeth', 'Thane'])"
   ]
  },
  {
   "cell_type": "code",
   "execution_count": 26,
   "metadata": {},
   "outputs": [
    {
     "data": {
      "image/png": "[encoded data removed]",
      "text/plain": [
       "<matplotlib.figure.Figure at 0x22d5ea28160>"
      ]
     },
     "metadata": {},
     "output_type": "display_data"
    }
   ],
   "source": [
    "\"\"\"\n",
    "Confirm word collocation by plotting.\n",
    "\"\"\"\n",
    "\n",
    "sh.dispersion_plot(['Cauldron', 'bubble'])"
   ]
  },
  {
   "cell_type": "code",
   "execution_count": 27,
   "metadata": {},
   "outputs": [
    {
     "data": {
      "text/plain": [
       "22211"
      ]
     },
     "execution_count": 27,
     "metadata": {},
     "output_type": "execute_result"
    }
   ],
   "source": [
    "\"\"\"\n",
    "Get text vocabulary.\n",
    "\"\"\"\n",
    "\n",
    "len(sh)"
   ]
  },
  {
   "cell_type": "code",
   "execution_count": 28,
   "metadata": {},
   "outputs": [
    {
     "data": {
      "text/plain": [
       "4094"
      ]
     },
     "execution_count": 28,
     "metadata": {},
     "output_type": "execute_result"
    }
   ],
   "source": [
    "\"\"\"\n",
    "Find the text's vocabulary.\n",
    "\"\"\"\n",
    "\n",
    "len(set(sh))"
   ]
  },
  {
   "cell_type": "code",
   "execution_count": 29,
   "metadata": {},
   "outputs": [
    {
     "data": {
      "text/plain": [
       "5.425256472887152"
      ]
     },
     "execution_count": 29,
     "metadata": {},
     "output_type": "execute_result"
    }
   ],
   "source": [
    "\"\"\"\n",
    "Define a function, vocab(), that takes the input text,\n",
    "then divide the number of words by the number of unique \n",
    "words to get the vocabulary of Macbeth.\n",
    "\"\"\"\n",
    "\n",
    "def vocab(sh): \n",
    "    return len(sh) / len(set(sh))\n",
    "\n",
    "vocab(sh)"
   ]
  },
  {
   "cell_type": "code",
   "execution_count": null,
   "metadata": {
    "collapsed": true
   },
   "outputs": [],
   "source": []
  }
 ],
 "metadata": {
  "kernelspec": {
   "display_name": "Python 3",
   "language": "python",
   "name": "python3"
  },
  "language_info": {
   "codemirror_mode": {
    "name": "ipython",
    "version": 3
   },
   "file_extension": ".py",
   "mimetype": "text/x-python",
   "name": "python",
   "nbconvert_exporter": "python",
   "pygments_lexer": "ipython3",
   "version": "3.6.1"
  }
 },
 "nbformat": 4,
 "nbformat_minor": 2
}
